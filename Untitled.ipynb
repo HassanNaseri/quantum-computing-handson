{
 "cells": [
  {
   "cell_type": "code",
   "execution_count": 1,
   "metadata": {},
   "outputs": [
    {
     "name": "stdout",
     "output_type": "stream",
     "text": [
      "w: [0 1 0 0]\n",
      "sp: [ 0.58  0.00  0.58  0.58]\n",
      "s2: [ 0.87  0.50]\n",
      "Uf: [[-0.33  0.00  0.67  0.67]\n",
      " [ 0.00 -1.00  0.00  0.00]\n",
      " [ 0.67  0.00 -0.33  0.67]\n",
      " [ 0.67  0.00  0.67 -0.33]]\n",
      "Us: [[-0.50  0.50  0.50  0.50]\n",
      " [ 0.50 -0.50  0.50  0.50]\n",
      " [ 0.50  0.50 -0.50  0.50]\n",
      " [ 0.50  0.50  0.50 -0.50]]\n",
      "Uf.s: [ 0.50 -0.50  0.50  0.50]\n",
      "Result: [ 0.00  1.00  0.00  0.00]\n"
     ]
    }
   ],
   "source": [
    "#!/usr/bin/env python3\n",
    "# -*- coding: utf-8 -*-\n",
    "\"\"\"\n",
    "Created on Tue Sep 18 10:13:38 2018\n",
    "\n",
    "@author: hassan.naseri\n",
    "\"\"\"\n",
    "\n",
    "import numpy as np\n",
    "import numpy.linalg as la\n",
    "\n",
    "# Print setting for arrays\n",
    "np.set_printoptions(formatter={'float': '{: 0.2f}'.format})\n",
    "\n",
    "# The winner state to find.\n",
    "w = np.array([0, 1, 0, 0])\n",
    "\n",
    "N = len(w)\n",
    "print(\"w: {:}\".format(w))\n",
    "\n",
    "# Unifrom superosition, prior state\n",
    "s = (1/np.sqrt(N)) * np.ones(N)\n",
    "\n",
    "# Find unit vector |sp> as a component of |s> orthogonal to |w>\n",
    "sp = (s - w.dot(s)*w)\n",
    "sp = sp/la.norm(sp)\n",
    "print(\"sp: {:}\".format(sp))\n",
    "\n",
    "# Find the image of s2 in the plane spanned by {|sp>,|w>}\n",
    "# This is not used by the algorithm just for curiosity!\n",
    "s2 = np.array([s.dot(sp),s.dot(w)])\n",
    "print(\"s2: {:}\".format(s2))\n",
    "\n",
    "# Reflection about sp (inversion)\n",
    "Uf = np.array(2*np.outer(sp,sp) - np.eye(N))\n",
    "print(\"Uf: {:}\".format(Uf))\n",
    "\n",
    "# Reflection about s (about average)\n",
    "Us = np.array(2*np.outer(s,s)-np.eye(N))\n",
    "print(\"Us: {:}\".format(Us))\n",
    "\n",
    "Psi2 = Uf.dot(s)\n",
    "print(\"Uf.s: {:}\".format(Psi2))\n",
    "\n",
    "result = Us.dot(Psi2)\n",
    "print(\"Result: {:}\".format(result))\n"
   ]
  },
  {
   "cell_type": "code",
   "execution_count": null,
   "metadata": {},
   "outputs": [],
   "source": []
  }
 ],
 "metadata": {
  "kernelspec": {
   "display_name": "Python 3",
   "language": "python",
   "name": "python3"
  },
  "language_info": {
   "codemirror_mode": {
    "name": "ipython",
    "version": 3
   },
   "file_extension": ".py",
   "mimetype": "text/x-python",
   "name": "python",
   "nbconvert_exporter": "python",
   "pygments_lexer": "ipython3",
   "version": "3.6.5"
  }
 },
 "nbformat": 4,
 "nbformat_minor": 2
}
