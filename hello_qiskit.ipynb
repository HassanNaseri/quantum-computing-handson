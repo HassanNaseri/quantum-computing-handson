{
 "cells": [
  {
   "cell_type": "code",
   "execution_count": 17,
   "metadata": {},
   "outputs": [],
   "source": [
    "#!/usr/bin/env python3\n",
    "# -*- coding: utf-8 -*-\n",
    "\"\"\"\n",
    "Created on Thu Jul 26 11:07:42 2018\n",
    "\n",
    "@author: hassan.naseri\n",
    "\"\"\"\n",
    "\n",
    "#QX_TOKEN = \"728624125ddfb3acc6485060d3c3bbd63e8c0373e65b3e8d1f29fd91417c75f7efa60cccd73f17669da651e24669c8a2865e7c1fcefc01a3879dd5c735003224\"\n",
    "#QX_URL = \"https://quantumexperience.ng.bluemix.net/api\"\n",
    "# Authenticate with the IBM Q API in order to use online devices.\n",
    "# You need the API Token and the QX URL.\n",
    "#from qiskit import register\n",
    "#register(QX_TOKEN, QX_URL)\n",
    "\n",
    "# Import the Qiskit SDK\n",
    "from qiskit import QuantumCircuit, ClassicalRegister, QuantumRegister\n",
    "from qiskit import available_backends, execute\n",
    "from qiskit.tools.visualization import plot_circuit, plot_histogram\n",
    "\n",
    "# This is only to disable extra warnings/messages\n",
    "import logging\n",
    "logging.getLogger(\"qiskit.tools.visualization\").setLevel(logging.ERROR)\n"
   ]
  },
  {
   "cell_type": "code",
   "execution_count": 18,
   "metadata": {},
   "outputs": [
    {
     "name": "stdout",
     "output_type": "stream",
     "text": [
      "Available backends:  ['local_qasm_simulator', 'local_statevector_simulator', 'local_unitary_simulator']\n"
     ]
    }
   ],
   "source": [
    "# See a list of available backends\n",
    "print(\"Available backends: \", available_backends())\n",
    "# print(\"Local backends: \", available_backends({'local': True}))"
   ]
  },
  {
   "cell_type": "code",
   "execution_count": 19,
   "metadata": {},
   "outputs": [
    {
     "data": {
      "image/png": "[encoded data removed]",
      "text/plain": [
       "<Figure size 301x240.8 with 1 Axes>"
      ]
     },
     "metadata": {},
     "output_type": "display_data"
    }
   ],
   "source": [
    "# Create a Quantum Register with 1 qubit. The initial state is |0>\n",
    "q = QuantumRegister(1)\n",
    "# Create a Classical Register with 1 bit.\n",
    "c = ClassicalRegister(1)\n",
    "# Create a Quantum Circuit\n",
    "qc = QuantumCircuit(q, c)\n",
    "\n",
    "# Add Hadamard gate to the qubit, putting it in superposition state.\n",
    "qc.h(q)\n",
    "\n",
    "# Add a Measurement gate to see the state.\n",
    "qc.measure(q, c)\n",
    "\n",
    "plot_circuit(qc)"
   ]
  },
  {
   "cell_type": "code",
   "execution_count": 20,
   "metadata": {},
   "outputs": [
    {
     "name": "stdout",
     "output_type": "stream",
     "text": [
      "simulation:  COMPLETED\n",
      "{'0': 478, '1': 546}\n"
     ]
    }
   ],
   "source": [
    "# Compile and run the Quantum circuit on a simulator backend\n",
    "# By default, it will run for 1000 shots\n",
    "job_sim = execute(qc, \"local_qasm_simulator\")\n",
    "# Compile and run the Quantum circuit on IBM Q backend\n",
    "#job_sim = execute(qc, \"ibmqx4\")\n",
    "\n",
    "sim_result = job_sim.result()\n",
    "\n",
    "# Show the results\n",
    "print(\"simulation: \", sim_result)\n",
    "print(sim_result.get_counts(qc))"
   ]
  },
  {
   "cell_type": "code",
   "execution_count": 13,
   "metadata": {},
   "outputs": [
    {
     "data": {
      "image/png": "[encoded data removed]",
      "text/plain": [
       "<Figure size 432x288 with 1 Axes>"
      ]
     },
     "metadata": {},
     "output_type": "display_data"
    }
   ],
   "source": [
    "plot_histogram(sim_result.get_counts(qc))"
   ]
  },
  {
   "cell_type": "code",
   "execution_count": null,
   "metadata": {},
   "outputs": [],
   "source": []
  }
 ],
 "metadata": {
  "kernelspec": {
   "display_name": "Python 3",
   "language": "python",
   "name": "python3"
  },
  "language_info": {
   "codemirror_mode": {
    "name": "ipython",
    "version": 3
   },
   "file_extension": ".py",
   "mimetype": "text/x-python",
   "name": "python",
   "nbconvert_exporter": "python",
   "pygments_lexer": "ipython3",
   "version": "3.6.5"
  }
 },
 "nbformat": 4,
 "nbformat_minor": 2
}
