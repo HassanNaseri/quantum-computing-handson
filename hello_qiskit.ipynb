{
 "cells": [
  {
   "cell_type": "code",
   "execution_count": 3,
   "metadata": {},
   "outputs": [],
   "source": [
    "#!/usr/bin/env python3\n",
    "# -*- coding: utf-8 -*-\n",
    "\"\"\"\n",
    "Created on Thu Jul 26 11:07:42 2018\n",
    "\n",
    "@author: hassan.naseri\n",
    "\"\"\"\n",
    "\n",
    "# Import the Qiskit SDK\n",
    "from qiskit import QuantumCircuit, ClassicalRegister, QuantumRegister\n",
    "from qiskit import Aer, IBMQ, execute\n",
    "from qiskit.tools.visualization import plot_histogram\n",
    "\n",
    "# This is only to disable extra warnings/messages\n",
    "import logging\n",
    "logging.getLogger(\"qiskit.tools.visualization\").setLevel(logging.ERROR)"
   ]
  },
  {
   "cell_type": "code",
   "execution_count": null,
   "metadata": {
    "scrolled": true
   },
   "outputs": [],
   "source": [
    "# Save your credentials (API Token).\n",
    "# You can get it from https://quantumexperience.ng.bluemix.net/qx/account,\n",
    "# looking for \"Personal Access Token\" section.\n",
    "# NOTE: you need to save your credentials only once!\n",
    "#APItoken = ''\n",
    "#ProjectURL = ''\n",
    "#IBMQ.save_account(APItoken, ProjectURL)\n",
    "\n",
    "# Authenticate with the IBM Q API in order to use online devices.\n",
    "# You need your credentials (API Token) to be already saved.\n",
    "#IBMQ.load_accounts()\n",
    "\n",
    "# Alternatively you can enable your account without saving it.\n",
    "#IBMQ.enable_account(APItoken, ProjectURL)\n"
   ]
  },
  {
   "cell_type": "code",
   "execution_count": 4,
   "metadata": {},
   "outputs": [
    {
     "name": "stdout",
     "output_type": "stream",
     "text": [
      "Local backends:  [AerSimulator('aer_simulator'), AerSimulator('aer_simulator_statevector'), AerSimulator('aer_simulator_density_matrix'), AerSimulator('aer_simulator_stabilizer'), AerSimulator('aer_simulator_matrix_product_state'), AerSimulator('aer_simulator_extended_stabilizer'), AerSimulator('aer_simulator_unitary'), AerSimulator('aer_simulator_superop'), QasmSimulator('qasm_simulator'), StatevectorSimulator('statevector_simulator'), UnitarySimulator('unitary_simulator'), PulseSimulator('pulse_simulator')]\n"
     ]
    }
   ],
   "source": [
    "# See a list of available backends\n",
    "print(\"Local backends: \", Aer.backends()) # Local backend (simulator only)\n",
    "#print(\"IBMQ backends: \", IBMQ.backends()) # IBMQ backends"
   ]
  },
  {
   "cell_type": "code",
   "execution_count": 7,
   "metadata": {},
   "outputs": [
    {
     "name": "stdout",
     "output_type": "stream",
     "text": [
      "      ┌─┐\n",
      "  q2: ┤M├\n",
      "      └╥┘\n",
      "c2: 1/═╩═\n",
      "       0 \n"
     ]
    }
   ],
   "source": [
    "# Create a Quantum Register with 1 qubit. The initial state is |0>\n",
    "q = QuantumRegister(1)\n",
    "# Create a Classical Register with 1 bit.\n",
    "c = ClassicalRegister(1)\n",
    "# Create a Quantum Circuit\n",
    "qc = QuantumCircuit(q, c)\n",
    "\n",
    "# Add Hadamard gate to the qubit, putting it in superposition state.\n",
    "# qc.h() add a Hadamard gate to the circuit\n",
    "\n",
    "# Add a Measurement gate to see the state.\n",
    "qc.measure(q, c)\n",
    "\n",
    "print(qc)"
   ]
  },
  {
   "cell_type": "code",
   "execution_count": 8,
   "metadata": {},
   "outputs": [
    {
     "name": "stdout",
     "output_type": "stream",
     "text": [
      "simulation:  Result(backend_name='qasm_simulator', backend_version='0.10.4', qobj_id='b8054eef-f53b-4ca4-b43c-8f0405713589', job_id='72e1ac8d-c32f-4f62-b5b1-139947c2d5ca', success=True, results=[ExperimentResult(shots=1024, success=True, meas_level=2, data=ExperimentResultData(counts={'0x0': 1024}), header=QobjExperimentHeader(clbit_labels=[['c2', 0]], creg_sizes=[['c2', 1]], global_phase=0.0, memory_slots=1, metadata={}, n_qubits=1, name='circuit-7', qreg_sizes=[['q2', 1]], qubit_labels=[['q2', 0]]), status=DONE, seed_simulator=713819905, metadata={'batched_shots_optimization': False, 'method': 'stabilizer', 'active_input_qubits': [0], 'device': 'CPU', 'remapped_qubits': False, 'num_qubits': 1, 'num_clbits': 1, 'input_qubit_map': [[0, 0]], 'measure_sampling': True, 'noise': 'ideal', 'parallel_shots': 1, 'parallel_state_update': 12, 'fusion': {'enabled': False}}, time_taken=0.0021412)], date=2022-05-15T15:11:17.413015, status=COMPLETED, status=QobjHeader(backend_name='qasm_simulator', backend_version='0.10.4'), metadata={'parallel_experiments': 1, 'omp_enabled': True, 'max_memory_mb': 32513, 'max_gpu_memory_mb': 0, 'mpi_rank': 0, 'time_taken_load_qobj': 0.0001114, 'num_mpi_processes': 1, 'time_taken_execute': 0.0021911, 'time_taken': 0.0023084}, time_taken=0.0020012855529785156)\n",
      "{'0': 1024}\n"
     ]
    }
   ],
   "source": [
    "# Compile and run the Quantum circuit on a local simulator backend\n",
    "# By default, it will run for 1000 shots\n",
    "backend = Aer.get_backend('qasm_simulator')\n",
    "job_sim = execute(qc, backend)\n",
    "# Compile and run the Quantum circuit on an IBM Q backend\n",
    "#backend = IBMQ.get_backend('')\n",
    "#job_sim = execute(qc, backend)\n",
    "\n",
    "sim_result = job_sim.result()\n",
    "\n",
    "# Show the results\n",
    "print(\"simulation: \", sim_result)\n",
    "print(sim_result.get_counts(qc))"
   ]
  },
  {
   "cell_type": "code",
   "execution_count": 12,
   "metadata": {},
   "outputs": [
    {
     "data": {
      "image/png": "[encoded data removed]",
      "text/plain": [
       "<Figure size 504x360 with 1 Axes>"
      ]
     },
     "execution_count": 12,
     "metadata": {},
     "output_type": "execute_result"
    }
   ],
   "source": [
    "plot_histogram(sim_result.get_counts(qc))"
   ]
  },
  {
   "cell_type": "code",
   "execution_count": null,
   "metadata": {},
   "outputs": [],
   "source": []
  }
 ],
 "metadata": {
  "interpreter": {
   "hash": "69b5a651e467ce08a0a1330df86b3de6bc171e7e8c9a3a99970b9855837ba961"
  },
  "kernelspec": {
   "display_name": "Python 3.8.13 ('qtest')",
   "language": "python",
   "name": "python3"
  },
  "language_info": {
   "codemirror_mode": {
    "name": "ipython",
    "version": 3
   },
   "file_extension": ".py",
   "mimetype": "text/x-python",
   "name": "python",
   "nbconvert_exporter": "python",
   "pygments_lexer": "ipython3",
   "version": "3.8.13"
  }
 },
 "nbformat": 4,
 "nbformat_minor": 2
}
