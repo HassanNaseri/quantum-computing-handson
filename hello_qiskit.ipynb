{
 "cells": [
  {
   "cell_type": "code",
   "execution_count": 1,
   "metadata": {},
   "outputs": [],
   "source": [
    "#!/usr/bin/env python3\n",
    "# -*- coding: utf-8 -*-\n",
    "\"\"\"\n",
    "Created on Thu Jul 26 11:07:42 2018\n",
    "\n",
    "@author: hassan.naseri\n",
    "\"\"\"\n",
    "\n",
    "# Import the Qiskit SDK\n",
    "from qiskit import QuantumCircuit, ClassicalRegister, QuantumRegister\n",
    "from qiskit import Aer, IBMQ, available_backends, execute\n",
    "from qiskit.tools.visualization import plot_circuit, plot_histogram\n",
    "\n",
    "# This is only to disable extra warnings/messages\n",
    "import logging\n",
    "logging.getLogger(\"qiskit.tools.visualization\").setLevel(logging.ERROR)"
   ]
  },
  {
   "cell_type": "code",
   "execution_count": 2,
   "metadata": {
    "scrolled": true
   },
   "outputs": [],
   "source": [
    "# Save your credentials (API Token).\n",
    "# You can get it from https://quantumexperience.ng.bluemix.net/qx/account,\n",
    "# looking for \"Personal Access Token\" section.\n",
    "# NOTE: you need to save your credentials only once!\n",
    "#APItoken = ''\n",
    "#ProjectURL = ''\n",
    "#IBMQ.save_account(APItoken, ProjectURL)\n",
    "\n",
    "# Authenticate with the IBM Q API in order to use online devices.\n",
    "# You need your credentials (API Token) to be already saved.\n",
    "#IBMQ.load_accounts()\n",
    "\n",
    "# Alternatively you can enable your account without saving it.\n",
    "#IBMQ.enable_account(APItoken, ProjectURL)\n"
   ]
  },
  {
   "cell_type": "code",
   "execution_count": 3,
   "metadata": {},
   "outputs": [
    {
     "name": "stdout",
     "output_type": "stream",
     "text": [
      "Local backends:  [<QasmSimulator('qasm_simulator') from Aer()>, <QasmSimulatorPy('qasm_simulator_py') from Aer()>, <StatevectorSimulator('statevector_simulator') from Aer()>, <StatevectorSimulatorPy('statevector_simulator_py') from Aer()>, <UnitarySimulator('unitary_simulator') from Aer()>, <CliffordSimulator('clifford_simulator') from Aer()>]\n"
     ]
    }
   ],
   "source": [
    "# See a list of available backends\n",
    "print(\"Local backends: \", Aer.backends()) # Local backend (simulator only)\n",
    "#print(\"IBMQ backends: \", IBMQ.backends()) # IBMQ backends"
   ]
  },
  {
   "cell_type": "code",
   "execution_count": 4,
   "metadata": {},
   "outputs": [
    {
     "data": {
      "image/png": "[encoded data removed]",
      "text/plain": [
       "<Figure size 301x138.46 with 1 Axes>"
      ]
     },
     "metadata": {},
     "output_type": "display_data"
    }
   ],
   "source": [
    "# Create a Quantum Register with 1 qubit. The initial state is |0>\n",
    "q = QuantumRegister(1)\n",
    "# Create a Classical Register with 1 bit.\n",
    "c = ClassicalRegister(1)\n",
    "# Create a Quantum Circuit\n",
    "qc = QuantumCircuit(q, c)\n",
    "\n",
    "# Add Hadamard gate to the qubit, putting it in superposition state.\n",
    "qc.h(q)\n",
    "\n",
    "# Add a Measurement gate to see the state.\n",
    "qc.measure(q, c)\n",
    "\n",
    "plot_circuit(qc)"
   ]
  },
  {
   "cell_type": "code",
   "execution_count": 5,
   "metadata": {},
   "outputs": [
    {
     "name": "stdout",
     "output_type": "stream",
     "text": [
      "simulation:  COMPLETED\n",
      "{'0': 526, '1': 498}\n"
     ]
    }
   ],
   "source": [
    "# Compile and run the Quantum circuit on a local simulator backend\n",
    "# By default, it will run for 1000 shots\n",
    "backend = Aer.get_backend('qasm_simulator')\n",
    "job_sim = execute(qc, backend)\n",
    "# Compile and run the Quantum circuit on an IBM Q backend\n",
    "#backend = IBMQ.get_backend('')\n",
    "#job_sim = execute(qc, backend)\n",
    "\n",
    "sim_result = job_sim.result()\n",
    "\n",
    "# Show the results\n",
    "print(\"simulation: \", sim_result)\n",
    "print(sim_result.get_counts(qc))"
   ]
  },
  {
   "cell_type": "code",
   "execution_count": 6,
   "metadata": {},
   "outputs": [
    {
     "data": {
      "image/png": "[encoded data removed]",
      "text/plain": [
       "<Figure size 432x288 with 1 Axes>"
      ]
     },
     "metadata": {
      "needs_background": "light"
     },
     "output_type": "display_data"
    }
   ],
   "source": [
    "plot_histogram(sim_result.get_counts(qc))"
   ]
  },
  {
   "cell_type": "code",
   "execution_count": null,
   "metadata": {},
   "outputs": [],
   "source": []
  }
 ],
 "metadata": {
  "kernelspec": {
   "display_name": "Python 3",
   "language": "python",
   "name": "python3"
  },
  "language_info": {
   "codemirror_mode": {
    "name": "ipython",
    "version": 3
   },
   "file_extension": ".py",
   "mimetype": "text/x-python",
   "name": "python",
   "nbconvert_exporter": "python",
   "pygments_lexer": "ipython3",
   "version": "3.6.5"
  }
 },
 "nbformat": 4,
 "nbformat_minor": 2
}
