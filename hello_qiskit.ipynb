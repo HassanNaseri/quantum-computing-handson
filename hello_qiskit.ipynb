{
 "cells": [
  {
   "cell_type": "code",
   "execution_count": null,
   "metadata": {},
   "outputs": [],
   "source": [
    "#!/usr/bin/env python3\n",
    "# -*- coding: utf-8 -*-\n",
    "\"\"\"\n",
    "Created on Thu Jul 26 11:07:42 2018\n",
    "\n",
    "\"\"\"\n",
    "\n",
    "# Import the Qiskit SDK\n",
    "from qiskit import QuantumCircuit, ClassicalRegister, QuantumRegister\n",
    "from qiskit import Aer, IBMQ, execute\n",
    "from qiskit.tools.visualization import plot_histogram\n",
    "\n",
    "# This is only to disable extra warnings/messages\n",
    "import logging\n",
    "logging.getLogger(\"qiskit.tools.visualization\").setLevel(logging.ERROR)"
   ]
  },
  {
   "cell_type": "code",
   "execution_count": null,
   "metadata": {
    "scrolled": true
   },
   "outputs": [],
   "source": [
    "# Save your credentials (API Token).\n",
    "# You can get it from https://quantumexperience.ng.bluemix.net/qx/account,\n",
    "# looking for \"Personal Access Token\" section.\n",
    "# NOTE: you need to save your credentials only once!\n",
    "#APItoken = ''\n",
    "#ProjectURL = ''\n",
    "#IBMQ.save_account(APItoken, ProjectURL)\n",
    "\n",
    "# Authenticate with the IBM Q API in order to use online devices.\n",
    "# You need your credentials (API Token) to be already saved.\n",
    "#IBMQ.load_accounts()\n",
    "\n",
    "# Alternatively you can enable your account without saving it.\n",
    "#IBMQ.enable_account(APItoken, ProjectURL)\n"
   ]
  },
  {
   "cell_type": "code",
   "execution_count": null,
   "metadata": {},
   "outputs": [],
   "source": [
    "# See a list of available backends\n",
    "print(\"Local backends: \", Aer.backends()) # Local backend (simulator only)\n",
    "#print(\"IBMQ backends: \", IBMQ.backends()) # IBMQ backends"
   ]
  },
  {
   "cell_type": "code",
   "execution_count": null,
   "metadata": {},
   "outputs": [],
   "source": [
    "# Create a Quantum Register with 1 qubit. The initial state is |0>\n",
    "q = QuantumRegister(1)\n",
    "# Create a Classical Register with 1 bit.\n",
    "c = ClassicalRegister(1)\n",
    "# Create a Quantum Circuit\n",
    "qc = QuantumCircuit(q, c)\n",
    "\n",
    "# Add Hadamard gate to the qubit, putting it in superposition state.\n",
    "# qc.h() add a Hadamard gate to the circuit\n",
    "\n",
    "# Add a Measurement gate to see the state.\n",
    "qc.measure(q, c)\n",
    "\n",
    "print(qc)"
   ]
  },
  {
   "cell_type": "code",
   "execution_count": null,
   "metadata": {},
   "outputs": [],
   "source": [
    "# Compile and run the Quantum circuit on a local simulator backend\n",
    "backend = Aer.get_backend('qasm_simulator')\n",
    "job_sim = execute(qc, backend, shots=2000)\n",
    "# Compile and run the Quantum circuit on an IBM Q backend\n",
    "#backend = IBMQ.get_backend('')\n",
    "#job_sim = execute(qc, backend)\n",
    "\n",
    "sim_result = job_sim.result()\n",
    "\n",
    "# Show the results\n",
    "print(\"simulation: \", sim_result)\n",
    "print(sim_result.get_counts(qc))"
   ]
  },
  {
   "cell_type": "code",
   "execution_count": null,
   "metadata": {},
   "outputs": [],
   "source": [
    "plot_histogram(sim_result.get_counts(qc))"
   ]
  },
  {
   "cell_type": "code",
   "execution_count": null,
   "metadata": {},
   "outputs": [],
   "source": []
  }
 ],
 "metadata": {
  "interpreter": {
   "hash": "69b5a651e467ce08a0a1330df86b3de6bc171e7e8c9a3a99970b9855837ba961"
  },
  "kernelspec": {
   "display_name": "Python 3 (ipykernel)",
   "language": "python",
   "name": "python3"
  },
  "language_info": {
   "codemirror_mode": {
    "name": "ipython",
    "version": 3
   },
   "file_extension": ".py",
   "mimetype": "text/x-python",
   "name": "python",
   "nbconvert_exporter": "python",
   "pygments_lexer": "ipython3",
   "version": "3.10.3"
  }
 },
 "nbformat": 4,
 "nbformat_minor": 2
}
