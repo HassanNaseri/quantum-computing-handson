{
 "cells": [
  {
   "cell_type": "code",
   "execution_count": null,
   "metadata": {},
   "outputs": [],
   "source": [
    "#!/usr/bin/env python3\n",
    "# -*- coding: utf-8 -*-\n",
    "\"\"\"\n",
    "Created on Mon Sep 24 13:05:18 2018\n",
    "\n",
    "@author: hassan.naseri\n",
    "\"\"\"\n",
    "\n",
    "import numpy as np\n",
    "import pandas as pd\n",
    "\n",
    "from classic_functions import uint4, black_box_check\n",
    "\n",
    "# This is the number of bits used to address the dataset\n",
    "# In our example, the shelf number of a fruit is a 4 bit unsigned integer.\n",
    "NBITS = 4;"
   ]
  },
  {
   "cell_type": "code",
   "execution_count": null,
   "metadata": {},
   "outputs": [],
   "source": [
    "###############################################################################\n",
    "# The main body code is here:\n",
    "\n",
    "# The name of fruit to search for its shelf number: \n",
    "# Options: avocado, apple, banana, grape, apricot, peach, cherry, orange, \n",
    "# blueberry, pear, pineapple, mandarin, mango, raspberry, strawberry, kiwi\n",
    "fruit_to_find = 'apple'\n",
    "\n",
    "# >>>>>>>> Complete the follwing line:\n",
    "maximum_number_of_steps = \n",
    "step_counter = 0\n",
    "for i in range(maximum_number_of_steps):\n",
    "    shelf = uint4(i)\n",
    "    step_counter += 1\n",
    "    if black_box_check(fruit_to_find, shelf) == ~shelf:\n",
    "        print(\"I found '{:}'! The shlef number is: {:}\".format(fruit_to_find, shelf))\n",
    "        print(\"Number of iterations: {:}\".format(step_counter)) \n",
    "        break;\n",
    "\n"
   ]
  },
  {
   "cell_type": "code",
   "execution_count": null,
   "metadata": {},
   "outputs": [],
   "source": [
    "~uint4(5)"
   ]
  },
  {
   "cell_type": "code",
   "execution_count": null,
   "metadata": {},
   "outputs": [],
   "source": [
    "# We can also search in any random order, but the average number of iteartions \n",
    "# will be same .\n",
    "random_indices = np.random.permutation(np.arange(maximum_number_of_steps))\n",
    "step_counter = 0\n",
    "# >>>>>>>> Complete the for loop below\n",
    "for ...\n",
    "\n",
    "print(\"I found '{:}'! The shlef number is: {:}\".format(fruit_to_find, shelf))\n",
    "print(\"Number of iterations: {:}\".format(step_counter))    "
   ]
  },
  {
   "cell_type": "code",
   "execution_count": null,
   "metadata": {},
   "outputs": [],
   "source": []
  }
 ],
 "metadata": {
  "kernelspec": {
   "display_name": "Python 3",
   "language": "python",
   "name": "python3"
  },
  "language_info": {
   "codemirror_mode": {
    "name": "ipython",
    "version": 3
   },
   "file_extension": ".py",
   "mimetype": "text/x-python",
   "name": "python",
   "nbconvert_exporter": "python",
   "pygments_lexer": "ipython3",
   "version": "3.6.5"
  }
 },
 "nbformat": 4,
 "nbformat_minor": 2
}
