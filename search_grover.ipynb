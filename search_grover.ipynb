{
 "cells": [
  {
   "cell_type": "code",
   "execution_count": 21,
   "metadata": {},
   "outputs": [],
   "source": [
    "#!/usr/bin/env python3\n",
    "# -*- coding: utf-8 -*-\n",
    "\"\"\"\n",
    "Created on Mon Sep 17 22:32:01 2018\n",
    "\n",
    "@author: hassan.naseri\n",
    "\"\"\"\n",
    "\n",
    "import numpy as np\n",
    "import pandas as pd\n",
    "from qiskit import ClassicalRegister, QuantumRegister, QuantumCircuit, execute\n",
    "\n",
    "import warnings\n",
    "warnings.filterwarnings(\"ignore\")\n",
    "\n",
    "# This is the number of bits used to address the dataset\n",
    "# In our example, the shelf number of a fruit is a 4 bit unsigned integer.\n",
    "NBITS = 4;"
   ]
  },
  {
   "cell_type": "code",
   "execution_count": 22,
   "metadata": {},
   "outputs": [],
   "source": [
    "def uint4(int_or_string):\n",
    "    # Simulate 4-bit unsigned integer by masking 4 bits of numpy.unit8\n",
    "    unit8_type = np.uint8(int_or_string)\n",
    "    mask = np.uint8(2**4 - 1)\n",
    "    return(unit8_type & mask)\n",
    "\n",
    "fileurl = \"https://raw.githubusercontent.com/HassanNaseri/quantum-computing-handson/master/fruits2.csv\"\n",
    "data_frame = pd.read_csv(fileurl)\n",
    "\n",
    "def black_box_check(circuit, key, q):\n",
    "    # Black box oracle function to encode a winner entry in a dataset\n",
    "    # Inverts the phase of 'q' if 'key' and 'q' are matching, otherwise the 'q' remains unchanged.\n",
    "    # Note: the implementation of the oracle here is only for simulation purposes, and its details may noy have \n",
    "    # any ptractical relevance. In practice, the oracle is generated systematically for each problem ecncoding \n",
    "    # a function (or dataset) that cannot be inverted (or efficiently searched).\n",
    "    data_dict = data_frame.set_index('name').T.to_dict('records')[0]\n",
    "    try:\n",
    "        winner = uint4(data_dict[key])\n",
    "    except:\n",
    "        raise ValueError('Invalid key! There is no ' + key)\n",
    "    if winner&2 == 0:\n",
    "        circuit.s(q[0])\n",
    "    if winner&1 == 0:\n",
    "        circuit.s(q[1])\n",
    "    circuit.h(q[1])\n",
    "    circuit.cx(q[0], q[1])\n",
    "    circuit.h(q[1])\n",
    "    if winner&2 == 0:\n",
    "        circuit.s(q[0])\n",
    "    if winner&1 == 0:\n",
    "        circuit.s(q[1])\n",
    "\n",
    "def reflection_about_average(circuit, q):\n",
    "    # Reflection about average for amplitude amplification\n",
    "    circuit.h(q[0])\n",
    "    circuit.h(q[1])    \n",
    "    circuit.x(q[0])\n",
    "    circuit.x(q[1])\n",
    "    circuit.h(q[1])\n",
    "    circuit.cx(q[0], q[1])\n",
    "    circuit.h(q[1])\n",
    "    circuit.x(q[0])\n",
    "    circuit.x(q[1])\n",
    "    circuit.h(q[0])\n",
    "    circuit.h(q[1])"
   ]
  },
  {
   "cell_type": "code",
   "execution_count": 23,
   "metadata": {},
   "outputs": [
    {
     "name": "stdout",
     "output_type": "stream",
     "text": [
      "simulation:  COMPLETED\n",
      "{'10': 10}\n",
      "\n",
      "I found 'orange'! The shlef number is: 2\n"
     ]
    }
   ],
   "source": [
    "###############################################################################\n",
    "# The main body code is here:\n",
    "\n",
    "# The name of fruit to search for its shelf number: \n",
    "# Options: apple, banana, orange, strawberry\n",
    "fruit_to_find = 'orange'\n",
    "\n",
    "# Define reqisters and circuit\n",
    "qreg = QuantumRegister(2)\n",
    "creg = ClassicalRegister(2)\n",
    "grover = QuantumCircuit(qreg, creg)\n",
    "\n",
    "# Initialization of quantum registers\n",
    "grover.h(qreg[0])\n",
    "grover.h(qreg[1])\n",
    "\n",
    "# Grover's amplitude amplification (only one iteration here)\n",
    "black_box_check(grover, fruit_to_find, qreg)\n",
    "reflection_about_average(grover, qreg)\n",
    "\n",
    "# Add Measurement\n",
    "grover.measure(qreg, creg)\n",
    "\n",
    "# Execute and collect results\n",
    "job_sim = execute(grover, \"local_qasm_simulator\", shots=10)\n",
    "sim_result = job_sim.result()\n",
    "\n",
    "# Print result counts\n",
    "print(\"simulation: \", sim_result)\n",
    "print(sim_result.get_counts(grover))\n",
    "\n",
    "shelf = int(max(sim_result.get_counts(grover)), 2)\n",
    "print(\"\")\n",
    "print(\"I found '{:}'! The shlef number is: {:}\".format(fruit_to_find, shelf))\n",
    "\n"
   ]
  },
  {
   "cell_type": "code",
   "execution_count": null,
   "metadata": {},
   "outputs": [],
   "source": []
  },
  {
   "cell_type": "code",
   "execution_count": null,
   "metadata": {},
   "outputs": [],
   "source": []
  }
 ],
 "metadata": {
  "kernelspec": {
   "display_name": "Python 3",
   "language": "python",
   "name": "python3"
  },
  "language_info": {
   "codemirror_mode": {
    "name": "ipython",
    "version": 3
   },
   "file_extension": ".py",
   "mimetype": "text/x-python",
   "name": "python",
   "nbconvert_exporter": "python",
   "pygments_lexer": "ipython3",
   "version": "3.6.5"
  }
 },
 "nbformat": 4,
 "nbformat_minor": 2
}
