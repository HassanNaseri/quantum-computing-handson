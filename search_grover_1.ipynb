{
 "cells": [
  {
   "cell_type": "code",
   "execution_count": null,
   "metadata": {},
   "outputs": [],
   "source": [
    "#!/usr/bin/env python3\n",
    "# -*- coding: utf-8 -*-\n",
    "\"\"\"\n",
    "Created on Mon Sep 17 22:32:01 2018\n",
    "\n",
    "@author: hassan.naseri\n",
    "\"\"\"\n",
    "\n",
    "import numpy as np\n",
    "from qiskit import ClassicalRegister, QuantumRegister, QuantumCircuit, execute\n",
    "from qiskit.tools.visualization import plot_circuit\n",
    "\n",
    "from quantum_functions import uint4, black_box_check, reflection_about_average\n",
    "\n",
    "import warnings\n",
    "warnings.filterwarnings(\"ignore\")\n",
    "\n",
    "# This is the number of bits used to address the dataset\n",
    "# In our example, the shelf number of a fruit is a 4 bit unsigned integer.\n",
    "NBITS = 4;"
   ]
  },
  {
   "cell_type": "code",
   "execution_count": null,
   "metadata": {},
   "outputs": [],
   "source": [
    "# Define reqisters and circuit\n",
    "qreg = QuantumRegister(2)\n",
    "creg = ClassicalRegister(2)\n",
    "grover = QuantumCircuit(qreg, creg)\n",
    "\n",
    "# Initialization of quantum registers\n",
    "grover.h(qreg)"
   ]
  },
  {
   "cell_type": "code",
   "execution_count": null,
   "metadata": {},
   "outputs": [],
   "source": [
    "# The name of fruit to search for its shelf number: \n",
    "# Options: apple, banana, orange, strawberry\n",
    "fruit_to_find = 'apple'\n",
    "\n",
    "# Grover's amplitude amplification (only one iteration here)\n",
    "# Complete the code here:\n",
    "...\n",
    "\n",
    "\n",
    "# Add Measurement\n",
    "grover.measure(qreg, creg)\n",
    "\n",
    "# Execute and collect results\n",
    "job_sim = execute(grover, \"local_qasm_simulator\", shots=10)\n",
    "sim_result = job_sim.result()\n",
    "\n",
    "# Print result counts\n",
    "print(\"simulation: \", sim_result)\n",
    "print(sim_result.get_counts(grover))\n",
    "\n",
    "shelf = int(max(sim_result.get_counts(grover)), 2)\n",
    "print(\"\")\n",
    "print(\"I found '{:}'! The shlef number is: {:}\".format(fruit_to_find, shelf))"
   ]
  },
  {
   "cell_type": "code",
   "execution_count": null,
   "metadata": {},
   "outputs": [],
   "source": [
    "plot_circuit(grover)"
   ]
  },
  {
   "cell_type": "code",
   "execution_count": null,
   "metadata": {},
   "outputs": [],
   "source": [
    "print(grover.qasm())"
   ]
  }
 ],
 "metadata": {
  "kernelspec": {
   "display_name": "Python 3",
   "language": "python",
   "name": "python3"
  },
  "language_info": {
   "codemirror_mode": {
    "name": "ipython",
    "version": 3
   },
   "file_extension": ".py",
   "mimetype": "text/x-python",
   "name": "python",
   "nbconvert_exporter": "python",
   "pygments_lexer": "ipython3",
   "version": "3.6.5"
  }
 },
 "nbformat": 4,
 "nbformat_minor": 2
}
