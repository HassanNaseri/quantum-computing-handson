{
 "cells": [
  {
   "cell_type": "code",
   "execution_count": null,
   "metadata": {},
   "outputs": [],
   "source": [
    "#!/usr/bin/env python3\n",
    "# -*- coding: utf-8 -*-\n",
    "\"\"\"\n",
    "Created on Mon Sep 17 22:32:01 2018\n",
    "\n",
    "@author: hassan.naseri\n",
    "\"\"\"\n",
    "\n",
    "import numpy as np\n",
    "from qiskit import ClassicalRegister, QuantumRegister, QuantumCircuit\n",
    "from qiskit import Aer, IBMQ, execute\n",
    "\n",
    "from quantum_functions import uint4, black_box_check, reflection_about_average\n",
    "\n",
    "# The following lines are only to disable extra warnings/messages\n",
    "import logging\n",
    "logging.getLogger(\"qiskit.tools.visualization\").setLevel(logging.ERROR)\n",
    "import warnings\n",
    "warnings.filterwarnings(\"ignore\")\n",
    "\n",
    "# This is the number of qubits used to address the dataset\n",
    "NQ = 2;"
   ]
  },
  {
   "cell_type": "code",
   "execution_count": null,
   "metadata": {},
   "outputs": [],
   "source": [
    "# Define reqisters and circuit\n",
    "qreg = QuantumRegister(NQ)\n",
    "creg = ClassicalRegister(NQ)\n",
    "grover = QuantumCircuit(qreg, creg)\n",
    "\n",
    "# Initialization of quantum registers\n",
    "grover.h(qreg)\n",
    "\n",
    "# The name of fruit to search for its shelf number: \n",
    "# Options: apple, banana, orange, strawberry\n",
    "fruit_to_find = 'apple'\n",
    "\n",
    "# Grover's amplitude amplification (only one iteration here)\n",
    "# Complete the code here: you need to call oracle and reflection functions.\n",
    "# You can find the definition of these functions in the file: quantum_functions.py\n",
    "# The oracle is loaded as black_box_check(grover, fruit_to_find, qreg)\n",
    "#    It has three arguments: quantum circuit, property to search, and quantum register\n",
    "# The reflection function is loaded as reflection_about_average\n",
    "#    It has two arguments: quantum circuit and quantum register\n",
    "#\n",
    "\n",
    "black_box_check(grover, fruit_to_find, qreg)\n",
    "reflection_about_average(grover, qreg)\n",
    "\n",
    "# Add Measurement\n",
    "grover.measure(qreg, creg)\n",
    "\n",
    "# Execute and collect results\n",
    "backend = Aer.get_backend('qasm_simulator')\n",
    "job_sim = execute(grover, backend, shots=10)\n",
    "sim_result = job_sim.result()\n",
    "\n",
    "# Print result counts\n",
    "print(\"simulation: \", sim_result)\n",
    "print(sim_result.get_counts(grover))\n",
    "\n",
    "shelf = int(max(sim_result.get_counts(grover)), 2)\n",
    "print(\"\")\n",
    "print(\"I found '{:}'! The shlef number is: {:}\".format(fruit_to_find, shelf))"
   ]
  },
  {
   "cell_type": "code",
   "execution_count": null,
   "metadata": {},
   "outputs": [],
   "source": [
    "print(grover)"
   ]
  },
  {
   "cell_type": "code",
   "execution_count": null,
   "metadata": {},
   "outputs": [],
   "source": [
    "print(grover.qasm())"
   ]
  }
 ],
 "metadata": {
  "interpreter": {
   "hash": "69b5a651e467ce08a0a1330df86b3de6bc171e7e8c9a3a99970b9855837ba961"
  },
  "kernelspec": {
   "display_name": "Python 3.8.13 ('qtest')",
   "language": "python",
   "name": "python3"
  },
  "language_info": {
   "codemirror_mode": {
    "name": "ipython",
    "version": 3
   },
   "file_extension": ".py",
   "mimetype": "text/x-python",
   "name": "python",
   "nbconvert_exporter": "python",
   "pygments_lexer": "ipython3",
   "version": "3.8.13"
  }
 },
 "nbformat": 4,
 "nbformat_minor": 2
}
