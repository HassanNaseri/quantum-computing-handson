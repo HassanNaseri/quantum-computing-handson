{
 "cells": [
  {
   "cell_type": "code",
   "execution_count": null,
   "metadata": {},
   "outputs": [],
   "source": [
    "#!/usr/bin/env python3\n",
    "# -*- coding: utf-8 -*-\n",
    "\"\"\"\n",
    "Created on Mon Sep 17 22:32:01 2018\n",
    "\n",
    "@author: hassan.naseri\n",
    "\"\"\"\n",
    "\n",
    "import numpy as np\n",
    "from qiskit import ClassicalRegister, QuantumRegister, QuantumCircuit\n",
    "from qiskit import Aer, IBMQ, available_backends, execute\n",
    "from qiskit.tools.visualization import plot_circuit\n",
    "\n",
    "from quantum_functions import uint4, black_box_check, reflection_about_average\n",
    "\n",
    "# The following lines are only to disable extra warnings/messages\n",
    "import logging\n",
    "logging.getLogger(\"qiskit.tools.visualization\").setLevel(logging.ERROR)\n",
    "import warnings\n",
    "warnings.filterwarnings(\"ignore\")\n",
    "\n",
    "# This is the number of qubits used to address the dataset\n",
    "NQ = 2;"
   ]
  },
  {
   "cell_type": "code",
   "execution_count": null,
   "metadata": {},
   "outputs": [],
   "source": [
    "def reflection_about_average(circuit, q):\n",
    "    # Reflection about average for amplitude amplification\n",
    "    # Complete this function to ge the code running\n",
    "    # You need to add quantum gates to the quantum circuit\n",
    "    # Follow the circuit diagram for this function given in the notes.\n",
    "    # You can also see the circuit diagram by plotting the last exercise circuit\n",
    "    # Hints: you need hadamard h(), Pauli X gate x(), and CNOT gate cx()\n",
    "    # h() ans x() accept only one argument which can be a single qubit or a multi-qubit quantum register\n",
    "    # cx() need to arguments, control qubit and target qubit, so you call it as circuit.cx(q[0], q[1])\n"
   ]
  },
  {
   "cell_type": "code",
   "execution_count": null,
   "metadata": {},
   "outputs": [],
   "source": [
    "# The name of fruit to search for its shelf number: \n",
    "# Options: apple, banana, orange, strawberry\n",
    "fruit_to_find = 'orange'\n",
    "\n",
    "# Define reqisters and circuit\n",
    "qreg = QuantumRegister(NQ)\n",
    "creg = ClassicalRegister(NQ)\n",
    "grover = QuantumCircuit(qreg, creg)\n",
    "\n",
    "# Initialization of quantum registers\n",
    "grover.h(qreg)\n",
    "\n",
    "# Grover's amplitude amplification (only one iteration here)\n",
    "black_box_check(grover, fruit_to_find, qreg)\n",
    "reflection_about_average(grover, qreg)\n",
    "\n",
    "# Add Measurement\n",
    "grover.measure(qreg, creg)\n",
    "\n",
    "# Execute and collect results\n",
    "backend = Aer.get_backend('qasm_simulator')\n",
    "job_sim = execute(grover, backend, shots=10)\n",
    "sim_result = job_sim.result()\n",
    "\n",
    "# Print result counts\n",
    "print(\"simulation: \", sim_result)\n",
    "print(sim_result.get_counts(grover))\n",
    "\n",
    "shelf = int(max(sim_result.get_counts(grover)), 2)\n",
    "print(\"\")\n",
    "print(\"I found '{:}'! The shlef number is: {:}\".format(fruit_to_find, shelf))"
   ]
  },
  {
   "cell_type": "code",
   "execution_count": null,
   "metadata": {},
   "outputs": [],
   "source": []
  }
 ],
 "metadata": {
  "kernelspec": {
   "display_name": "Python 3",
   "language": "python",
   "name": "python3"
  },
  "language_info": {
   "codemirror_mode": {
    "name": "ipython",
    "version": 3
   },
   "file_extension": ".py",
   "mimetype": "text/x-python",
   "name": "python",
   "nbconvert_exporter": "python",
   "pygments_lexer": "ipython3",
   "version": "3.6.5"
  }
 },
 "nbformat": 4,
 "nbformat_minor": 2
}
