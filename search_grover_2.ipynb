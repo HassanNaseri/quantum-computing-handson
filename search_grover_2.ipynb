{
 "cells": [
  {
   "cell_type": "code",
   "execution_count": 1,
   "metadata": {},
   "outputs": [],
   "source": [
    "#!/usr/bin/env python3\n",
    "# -*- coding: utf-8 -*-\n",
    "\"\"\"\n",
    "Created on Mon Sep 17 22:32:01 2018\n",
    "\n",
    "@author: hassan.naseri\n",
    "\"\"\"\n",
    "\n",
    "import numpy as np\n",
    "from qiskit import ClassicalRegister, QuantumRegister, QuantumCircuit, execute\n",
    "from qiskit.tools.visualization import plot_circuit\n",
    "\n",
    "from quantum_functions import uint4, black_box_check, reflection_about_average\n",
    "\n",
    "import warnings\n",
    "warnings.filterwarnings(\"ignore\")\n",
    "\n",
    "# This is the number of bits used to address the dataset\n",
    "# In our example, the shelf number of a fruit is a 4 bit unsigned integer.\n",
    "NBITS = 4;"
   ]
  },
  {
   "cell_type": "code",
   "execution_count": 2,
   "metadata": {},
   "outputs": [],
   "source": [
    "def reflection_about_average(circuit, q):\n",
    "    # Reflection about average for amplitude amplification\n",
    "    circuit.h(q)   \n",
    "    circuit.x(q)\n",
    "    circuit.h(q[1])\n",
    "    circuit.cx(q[0], q[1])\n",
    "    circuit.h(q[1])\n",
    "    circuit.x(q)\n",
    "    circuit.h(q)"
   ]
  },
  {
   "cell_type": "code",
   "execution_count": 4,
   "metadata": {},
   "outputs": [
    {
     "data": {
      "text/plain": [
       "<qiskit._instructionset.InstructionSet at 0x10a3925f8>"
      ]
     },
     "execution_count": 4,
     "metadata": {},
     "output_type": "execute_result"
    }
   ],
   "source": [
    "# The name of fruit to search for its shelf number: \n",
    "# Options: apple, banana, orange, strawberry\n",
    "fruit_to_find = 'orange'\n",
    "\n",
    "# Define reqisters and circuit\n",
    "qreg = QuantumRegister(2)\n",
    "creg = ClassicalRegister(2)\n",
    "grover = QuantumCircuit(qreg, creg)\n",
    "\n",
    "# Initialization of quantum registers\n",
    "grover.h(qreg)\n"
   ]
  },
  {
   "cell_type": "code",
   "execution_count": 5,
   "metadata": {},
   "outputs": [
    {
     "name": "stdout",
     "output_type": "stream",
     "text": [
      "simulation:  COMPLETED\n",
      "{'10': 10}\n",
      "\n",
      "I found 'orange'! The shlef number is: 2\n"
     ]
    }
   ],
   "source": [
    "# Grover's amplitude amplification (only one iteration here)\n",
    "black_box_check(grover, fruit_to_find, qreg)\n",
    "reflection_about_average(grover, qreg)\n",
    "\n",
    "# Add Measurement\n",
    "grover.measure(qreg, creg)\n",
    "\n",
    "# Execute and collect results\n",
    "job_sim = execute(grover, \"local_qasm_simulator\", shots=10)\n",
    "sim_result = job_sim.result()\n",
    "\n",
    "# Print result counts\n",
    "print(\"simulation: \", sim_result)\n",
    "print(sim_result.get_counts(grover))\n",
    "\n",
    "shelf = int(max(sim_result.get_counts(grover)), 2)\n",
    "print(\"\")\n",
    "print(\"I found '{:}'! The shlef number is: {:}\".format(fruit_to_find, shelf))"
   ]
  },
  {
   "cell_type": "code",
   "execution_count": null,
   "metadata": {},
   "outputs": [],
   "source": []
  }
 ],
 "metadata": {
  "kernelspec": {
   "display_name": "Python 3",
   "language": "python",
   "name": "python3"
  },
  "language_info": {
   "codemirror_mode": {
    "name": "ipython",
    "version": 3
   },
   "file_extension": ".py",
   "mimetype": "text/x-python",
   "name": "python",
   "nbconvert_exporter": "python",
   "pygments_lexer": "ipython3",
   "version": "3.6.5"
  }
 },
 "nbformat": 4,
 "nbformat_minor": 2
}
