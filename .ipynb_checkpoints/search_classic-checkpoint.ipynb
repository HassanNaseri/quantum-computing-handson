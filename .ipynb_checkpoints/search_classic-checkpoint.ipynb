{
 "cells": [
  {
   "cell_type": "code",
   "execution_count": 2,
   "metadata": {},
   "outputs": [],
   "source": [
    "#!/usr/bin/env python3\n",
    "# -*- coding: utf-8 -*-\n",
    "\"\"\"\n",
    "Created on Mon Sep 24 13:05:18 2018\n",
    "\n",
    "@author: hassan.naseri\n",
    "\"\"\"\n",
    "\n",
    "import numpy as np\n",
    "import pandas as pd\n",
    "\n",
    "# This is the number of bits used to address the dataset\n",
    "# In our example, the shelf number of a fruit is a 4 bit unsigned integer.\n",
    "NBITS = 4;"
   ]
  },
  {
   "cell_type": "code",
   "execution_count": 3,
   "metadata": {},
   "outputs": [],
   "source": [
    "def uint4(int_or_string):\n",
    "    # Simulate 4-bit unsigned integer by masking 4 bits of numpy.unit8\n",
    "    unit8_type = np.uint8(int_or_string)\n",
    "    mask = np.uint8(2**4 - 1)\n",
    "    return(unit8_type & mask)\n",
    "\n",
    "fileurl = \"https://raw.githubusercontent.com/HassanNaseri/quantum-computing-handson/master/fruits.csv\"\n",
    "data_frame = pd.read_csv(fileurl)\n",
    "\n",
    "def black_box_check(key, value):\n",
    "    # Black box function to encode a winner entry in a dataset\n",
    "    # Returns inverse (NOT) of 'value' arguments if 'key' and 'value' pair match,\n",
    "    # otherwise it returns the 'value' argument unchanged.\n",
    "    # Note: this function is not implemented efficiently, but its details are not importnat!\n",
    "    data_dict = data_frame.set_index('name').T.to_dict('records')[0]\n",
    "    try:\n",
    "        winner = uint4(data_dict[key])\n",
    "    except:\n",
    "        raise ValueError('Invalid key! There is no ' + key)\n",
    "    result = value\n",
    "    if value == winner:\n",
    "        result = ~value\n",
    "    return result"
   ]
  },
  {
   "cell_type": "code",
   "execution_count": 6,
   "metadata": {},
   "outputs": [
    {
     "name": "stdout",
     "output_type": "stream",
     "text": [
      "I found 'apple'! The shlef number is: 9\n",
      "Number of iterations: 10\n"
     ]
    }
   ],
   "source": [
    "###############################################################################\n",
    "# The main body code starts here\n",
    "\n",
    "# The name of fruit to search for its shelf number: \n",
    "# Options: avocado, apple, banana, grape, apricot, peach, cherry, orange, \n",
    "# blueberry, pear, pineapple, mandarin, mango, raspberry, strawberry, kiwi\n",
    "fruit_to_find = 'apple'\n",
    "\n",
    "# >>>>>>>> Complete the follwing line:\n",
    "maximum_number_of_steps = 2**NBITS\n",
    "step_counter = 0\n",
    "for i in range(maximum_number_of_steps):\n",
    "    shelf = uint4(i)\n",
    "    step_counter += 1\n",
    "    if black_box_check(fruit_to_find, shelf) == ~shelf:\n",
    "        break;\n",
    "\n",
    "print(\"I found '{:}'! The shlef number is: {:}\".format(fruit_to_find, shelf))\n",
    "print(\"Number of iterations: {:}\".format(step_counter))    \n",
    "\n",
    "\n"
   ]
  },
  {
   "cell_type": "code",
   "execution_count": 10,
   "metadata": {},
   "outputs": [
    {
     "name": "stdout",
     "output_type": "stream",
     "text": [
      "I found 'apple'! The shlef number is: 9\n",
      "Number of iterations: 12\n"
     ]
    }
   ],
   "source": [
    "# We can also search in any random order, but the average number of iteartions \n",
    "# will be same .\n",
    "random_indices = np.random.permutation(np.arange(maximum_number_of_steps))\n",
    "step_counter = 0\n",
    "for i in random_indices:\n",
    "    shelf = uint4(i)\n",
    "    step_counter += 1\n",
    "    if black_box_check(fruit_to_find, shelf) == ~shelf:\n",
    "        break;\n",
    "\n",
    "print(\"I found '{:}'! The shlef number is: {:}\".format(fruit_to_find, shelf))\n",
    "print(\"Number of iterations: {:}\".format(step_counter))    "
   ]
  },
  {
   "cell_type": "code",
   "execution_count": null,
   "metadata": {},
   "outputs": [],
   "source": []
  }
 ],
 "metadata": {
  "kernelspec": {
   "display_name": "Python 2",
   "language": "python",
   "name": "python2"
  },
  "language_info": {
   "codemirror_mode": {
    "name": "ipython",
    "version": 2
   },
   "file_extension": ".py",
   "mimetype": "text/x-python",
   "name": "python",
   "nbconvert_exporter": "python",
   "pygments_lexer": "ipython2",
   "version": "2.7.15"
  }
 },
 "nbformat": 4,
 "nbformat_minor": 2
}
